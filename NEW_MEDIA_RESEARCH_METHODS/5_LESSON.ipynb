{
 "cells": [
  {
   "cell_type": "code",
   "execution_count": 1,
   "metadata": {
    "collapsed": true
   },
   "outputs": [],
   "source": [
    "mylist = [\"koyun\", \"inek\", \"tavuk\"]"
   ]
  },
  {
   "cell_type": "markdown",
   "source": [
    "# List\n",
    "\n",
    "Liste\n",
    "Listeler, birden çok öğeyi tek bir değişkende depolamak için kullanılır.\n",
    "\n",
    "Listeler, Python'da veri koleksiyonlarını depolamak için kullanılan 4 yerleşik veri türünden biridir, diğer 3'ü Tuple, Set ve Dictionary'dir ve hepsi farklı niteliklere ve kullanıma sahiptir.\n",
    "\n",
    "Listeler köşeli parantezler kullanılarak oluşturulur:"
   ],
   "metadata": {
    "collapsed": false,
    "pycharm": {
     "name": "#%% md\n"
    }
   }
  },
  {
   "cell_type": "code",
   "execution_count": 2,
   "outputs": [
    {
     "name": "stdout",
     "output_type": "stream",
     "text": [
      "['apple', 'banana', 'cherry']\n"
     ]
    }
   ],
   "source": [
    "# liste oluşturma\n",
    "thislist = [\"apple\", \"banana\", \"cherry\"]\n",
    "print(thislist)"
   ],
   "metadata": {
    "collapsed": false,
    "pycharm": {
     "name": "#%%\n"
    }
   }
  },
  {
   "cell_type": "markdown",
   "source": [
    "# Değeleri listeleme\n",
    "Liste öğeleri sıralıdır, değiştirilebilir ve yinelenen değerlere izin verir.\n",
    "\n",
    "Liste öğeleri indekslenir, ilk öğe [0] indeksine sahiptir, ikinci öğe [1] indeksine sahiptir vb.\n",
    "\n",
    "## Order - sıralanma\n",
    "Listelerin sıralı olduğunu söylediğimizde, maddelerin belirli bir sırası olduğu ve bu sıralamanın değişmeyeceği anlamına gelir.\n",
    "\n",
    "Bir listeye yeni öğeler eklerseniz, yeni öğeler listenin sonuna yerleştirilir.\n",
    "\n",
    "**NOT:** Not: Sıralamayı değiştirecek bazı liste yöntemleri vardır, ancak genel olarak: öğelerin sırası değişmez.\n",
    "\n",
    "## değiştirilebilir\n",
    "Liste değiştirilebilir, yani bir liste oluşturulduktan sonra listedeki öğeleri değiştirebilir, ekleyebilir ve kaldırabiliriz.\n",
    "\n",
    "## Yinelemelere İzin Ver\n",
    "Listeler indekslendiğinden, listeler aynı değere sahip öğelere sahip olabilir:"
   ],
   "metadata": {
    "collapsed": false,
    "pycharm": {
     "name": "#%% md\n"
    }
   }
  },
  {
   "cell_type": "code",
   "execution_count": 3,
   "outputs": [
    {
     "name": "stdout",
     "output_type": "stream",
     "text": [
      "['apple', 'banana', 'cherry', 'apple', 'cherry']\n"
     ]
    }
   ],
   "source": [
    "# Listeler yinelenen değerlere izin verir:\n",
    "thislist = [\"apple\", \"banana\", \"cherry\", \"apple\", \"cherry\"]\n",
    "print(thislist)"
   ],
   "metadata": {
    "collapsed": false,
    "pycharm": {
     "name": "#%%\n"
    }
   }
  },
  {
   "cell_type": "markdown",
   "source": [
    "# Liste Uzunluğu\n",
    "Bir listenin kaç öğeye sahip olduğunu belirlemek için len() işlevini kullanın:"
   ],
   "metadata": {
    "collapsed": false,
    "pycharm": {
     "name": "#%% md\n"
    }
   }
  },
  {
   "cell_type": "code",
   "execution_count": 4,
   "outputs": [
    {
     "name": "stdout",
     "output_type": "stream",
     "text": [
      "3\n"
     ]
    }
   ],
   "source": [
    "thislist = [\"apple\", \"banana\", \"cherry\"]\n",
    "print(len(thislist))"
   ],
   "metadata": {
    "collapsed": false,
    "pycharm": {
     "name": "#%%\n"
    }
   }
  },
  {
   "cell_type": "markdown",
   "source": [
    "# Liste Öğeleri - Veri Türleri\n",
    "Liste öğeleri herhangi bir veri türünde olabilir:"
   ],
   "metadata": {
    "collapsed": false,
    "pycharm": {
     "name": "#%% md\n"
    }
   }
  },
  {
   "cell_type": "code",
   "execution_count": 5,
   "outputs": [],
   "source": [
    "# String, int and boolean data types:\n",
    "list1 = [\"apple\", \"banana\", \"cherry\"]\n",
    "list2 = [1, 5, 7, 9, 3]\n",
    "list3 = [True, False, False]"
   ],
   "metadata": {
    "collapsed": false,
    "pycharm": {
     "name": "#%%\n"
    }
   }
  },
  {
   "cell_type": "markdown",
   "source": [
    "Bir liste farklı veri türleri içerebilir:\n",
    "Dizeler, tamsayılar ve boole değerleri içeren bir liste:"
   ],
   "metadata": {
    "collapsed": false,
    "pycharm": {
     "name": "#%% md\n"
    }
   }
  },
  {
   "cell_type": "code",
   "execution_count": 6,
   "outputs": [],
   "source": [
    "list1 = [\"abc\", 34, True, 40, \"male\"]"
   ],
   "metadata": {
    "collapsed": false,
    "pycharm": {
     "name": "#%%\n"
    }
   }
  },
  {
   "cell_type": "markdown",
   "source": [
    "# type()\n",
    "Python'un bakış açısından listeler, 'liste' veri tipine sahip nesneler olarak tanımlanır:"
   ],
   "metadata": {
    "collapsed": false,
    "pycharm": {
     "name": "#%% md\n"
    }
   }
  },
  {
   "cell_type": "code",
   "execution_count": 7,
   "outputs": [
    {
     "name": "stdout",
     "output_type": "stream",
     "text": [
      "<class 'list'>\n"
     ]
    }
   ],
   "source": [
    "mylist = [\"apple\", \"banana\", \"cherry\"]\n",
    "print(type(mylist))"
   ],
   "metadata": {
    "collapsed": false,
    "pycharm": {
     "name": "#%%\n"
    }
   }
  },
  {
   "cell_type": "markdown",
   "source": [
    "list() Oluşturucu\n",
    "Yeni bir liste oluştururken list() yapıcısını kullanmak da mümkündür."
   ],
   "metadata": {
    "collapsed": false,
    "pycharm": {
     "name": "#%% md\n"
    }
   }
  },
  {
   "cell_type": "code",
   "execution_count": 9,
   "outputs": [
    {
     "name": "stdout",
     "output_type": "stream",
     "text": [
      "['apple', 'banana', 'cherry']\n"
     ]
    }
   ],
   "source": [
    "# Bir Liste oluşturmak için list() yapıcısını kullanma:\n",
    "thislist = list((\"apple\", \"banana\", \"cherry\")) # note the double round-brackets\n",
    "print(thislist)"
   ],
   "metadata": {
    "collapsed": false,
    "pycharm": {
     "name": "#%%\n"
    }
   }
  },
  {
   "cell_type": "markdown",
   "source": [
    "# Python Koleksiyonları (Diziler)\n",
    "Python programlama dilinde dört toplama veri türü vardır:\n",
    "\n",
    "* Liste, sıralı ve değişken bir koleksiyondur. Yinelenen üyelere izin verir.\n",
    "* Tuple, sıralı ve değişmez bir koleksiyondur. Yinelenen üyelere izin verir.\n",
    "* Set, sırasız, değiştirilemez* ve indekslenmemiş bir koleksiyondur. Yinelenen üye yok.\n",
    "* Sözlük sıralı** ve değişken bir koleksiyondur. Yinelenen üye yok.\n",
    "\n",
    "*Set öğeleri değiştirilemez, ancak istediğiniz zaman öğeleri kaldırabilir ve/veya ekleyebilirsiniz.\n",
    "\n",
    "**Python sürüm 3.7'den itibaren sözlükler sıralanmıştır. Python 3.6 ve önceki sürümlerde sözlükler sırasızdır.\n",
    "\n",
    "Bir koleksiyon türü seçerken, o türün özelliklerini anlamakta fayda var. Belirli bir veri kümesi için doğru türün seçilmesi, anlamın korunması anlamına gelebilir ve bu, verimlilik veya güvenlikte bir artış anlamına gelebilir."
   ],
   "metadata": {
    "collapsed": false,
    "pycharm": {
     "name": "#%% md\n"
    }
   }
  },
  {
   "cell_type": "markdown",
   "source": [
    "# Access Items"
   ],
   "metadata": {
    "collapsed": false,
    "pycharm": {
     "name": "#%% md\n"
    }
   }
  },
  {
   "cell_type": "code",
   "execution_count": 1,
   "outputs": [
    {
     "name": "stdout",
     "output_type": "stream",
     "text": [
      "banana\n"
     ]
    }
   ],
   "source": [
    "thislist = [\"apple\", \"banana\", \"cherry\"]\n",
    "print(thislist[1])"
   ],
   "metadata": {
    "collapsed": false,
    "pycharm": {
     "name": "#%%\n"
    }
   }
  },
  {
   "cell_type": "markdown",
   "source": [
    "**Note:** The first item has index 0.\n",
    "\n",
    "# Negatif İndeksleme\n",
    "Negatif indeksleme, sondan başlamak anlamına gelir\n",
    "\n",
    "-1 son öğeyi ifade eder, -2 sondan ikinci öğeyi ifade eder vb."
   ],
   "metadata": {
    "collapsed": false,
    "pycharm": {
     "name": "#%% md\n"
    }
   }
  },
  {
   "cell_type": "code",
   "execution_count": 2,
   "outputs": [
    {
     "name": "stdout",
     "output_type": "stream",
     "text": [
      "cherry\n"
     ]
    }
   ],
   "source": [
    "thislist = [\"apple\", \"banana\", \"cherry\"]\n",
    "print(thislist[-1])"
   ],
   "metadata": {
    "collapsed": false,
    "pycharm": {
     "name": "#%%\n"
    }
   }
  },
  {
   "cell_type": "markdown",
   "source": [
    "# İndeks Aralığı\n",
    "Aralığın nereden başlayacağını ve nerede biteceğini belirterek bir dizin aralığı belirleyebilirsiniz.\n",
    "\n",
    "Bir aralık belirtirken, dönüş değeri belirtilen öğelerle birlikte yeni bir liste olacaktır."
   ],
   "metadata": {
    "collapsed": false,
    "pycharm": {
     "name": "#%% md\n"
    }
   }
  },
  {
   "cell_type": "code",
   "execution_count": 3,
   "outputs": [
    {
     "name": "stdout",
     "output_type": "stream",
     "text": [
      "['cherry', 'orange', 'kiwi']\n"
     ]
    }
   ],
   "source": [
    "thislist = [\"apple\", \"banana\", \"cherry\", \"orange\", \"kiwi\", \"melon\", \"mango\"]\n",
    "print(thislist[2:5])"
   ],
   "metadata": {
    "collapsed": false,
    "pycharm": {
     "name": "#%%\n"
    }
   }
  },
  {
   "cell_type": "markdown",
   "source": [
    "**Not:** Arama dizin 2'de (dahil) başlayacak ve dizin 5'te (dahil değil) sona erecektir.\n",
    "İlk öğenin 0 dizinine sahip olduğunu unutmayın.\n",
    "\n",
    "Başlangıç değeri dışarıda bırakıldığında, aralık ilk öğeden başlar:"
   ],
   "metadata": {
    "collapsed": false,
    "pycharm": {
     "name": "#%% md\n"
    }
   }
  },
  {
   "cell_type": "code",
   "execution_count": 5,
   "outputs": [
    {
     "name": "stdout",
     "output_type": "stream",
     "text": [
      "['apple', 'banana', 'cherry', 'orange']\n"
     ]
    }
   ],
   "source": [
    "# Bu örnek, baştan \"kiwi\" ye kadar olan öğeleri döndürür, ancak \"kiwi\" DEĞİLDİR:\n",
    "thislist = [\"apple\", \"banana\", \"cherry\", \"orange\", \"kiwi\", \"melon\", \"mango\"]\n",
    "print(thislist[:4])"
   ],
   "metadata": {
    "collapsed": false,
    "pycharm": {
     "name": "#%%\n"
    }
   }
  },
  {
   "cell_type": "markdown",
   "source": [
    "Bitiş değeri dışarıda bırakıldığında, aralık listenin sonuna kadar devam eder:"
   ],
   "metadata": {
    "collapsed": false,
    "pycharm": {
     "name": "#%% md\n"
    }
   }
  },
  {
   "cell_type": "code",
   "execution_count": 6,
   "outputs": [
    {
     "name": "stdout",
     "output_type": "stream",
     "text": [
      "['cherry', 'orange', 'kiwi', 'melon', 'mango']\n"
     ]
    }
   ],
   "source": [
    "# Bu örnek, \"cherry\" öğesinden sonuna kadar olan öğeleri döndürür:\n",
    "thislist = [\"apple\", \"banana\", \"cherry\", \"orange\", \"kiwi\", \"melon\", \"mango\"]\n",
    "print(thislist[2:])"
   ],
   "metadata": {
    "collapsed": false,
    "pycharm": {
     "name": "#%%\n"
    }
   }
  },
  {
   "cell_type": "markdown",
   "source": [
    "# Negatif İndeks Aralığı\n",
    "Aramayı listenin sonundan başlatmak istiyorsanız, negatif dizinleri belirtin:"
   ],
   "metadata": {
    "collapsed": false,
    "pycharm": {
     "name": "#%% md\n"
    }
   }
  },
  {
   "cell_type": "code",
   "execution_count": 8,
   "outputs": [
    {
     "name": "stdout",
     "output_type": "stream",
     "text": [
      "['orange', 'kiwi', 'melon']\n"
     ]
    }
   ],
   "source": [
    "# Bu örnek, \"turuncu\" (-4) ile \"mango\" (-1) arasındaki öğeleri döndürür, ancak \"mango\" (-1) dahil DEĞİLDİR:\n",
    "thislist = [\"apple\", \"banana\", \"cherry\", \"orange\", \"kiwi\", \"melon\", \"mango\"]\n",
    "print(thislist[-4:-1])"
   ],
   "metadata": {
    "collapsed": false,
    "pycharm": {
     "name": "#%%\n"
    }
   }
  },
  {
   "cell_type": "markdown",
   "source": [
    "# Öğenin Var Olup Olmadığını Kontrol Edin\n",
    "Belirli bir öğenin bir listede bulunup bulunmadığını belirlemek için in anahtar sözcüğünü kullanın:"
   ],
   "metadata": {
    "collapsed": false,
    "pycharm": {
     "name": "#%% md\n"
    }
   }
  },
  {
   "cell_type": "code",
   "execution_count": 10,
   "outputs": [
    {
     "name": "stdout",
     "output_type": "stream",
     "text": [
      "Yes, 'apple' is in the fruits list\n"
     ]
    }
   ],
   "source": [
    "# Listede \"elma\" olup olmadığını kontrol edin:\n",
    "thislist = [\"apple\", \"banana\", \"cherry\"]\n",
    "if \"apple\" in thislist:\n",
    "  print(\"Yes, 'apple' is in the fruits list\")"
   ],
   "metadata": {
    "collapsed": false,
    "pycharm": {
     "name": "#%%\n"
    }
   }
  },
  {
   "cell_type": "markdown",
   "source": [
    "# Öğe Değerini Değiştir\n",
    "Belirli bir öğenin değerini değiştirmek için dizin numarasına bakın:"
   ],
   "metadata": {
    "collapsed": false,
    "pycharm": {
     "name": "#%% md\n"
    }
   }
  },
  {
   "cell_type": "code",
   "execution_count": 11,
   "outputs": [
    {
     "name": "stdout",
     "output_type": "stream",
     "text": [
      "['apple', 'blackcurrant', 'cherry']\n"
     ]
    }
   ],
   "source": [
    "thislist = [\"apple\", \"banana\", \"cherry\"]\n",
    "thislist[1] = \"blackcurrant\"\n",
    "print(thislist)"
   ],
   "metadata": {
    "collapsed": false,
    "pycharm": {
     "name": "#%%\n"
    }
   }
  },
  {
   "cell_type": "markdown",
   "source": [
    "# Öğe Değerleri Aralığını Değiştirme\n",
    "Belirli bir aralıktaki öğelerin değerini değiştirmek için yeni değerler içeren bir liste tanımlayın ve yeni değerleri eklemek istediğiniz dizin numaraları aralığına bakın:\n",
    "\n",
    "\"muz\" ve \"kiraz\" değerlerini \"kara frenk üzümü\" ve \"karpuz\" değerleri ile değiştirin:"
   ],
   "metadata": {
    "collapsed": false,
    "pycharm": {
     "name": "#%% md\n"
    }
   }
  },
  {
   "cell_type": "code",
   "execution_count": 14,
   "outputs": [
    {
     "name": "stdout",
     "output_type": "stream",
     "text": [
      "['apple', 'blackcurrant', 'watermelon', 'orange', 'kiwi', 'mango']\n"
     ]
    }
   ],
   "source": [
    "thislist = [\"apple\", \"banana\", \"cherry\", \"orange\", \"kiwi\", \"mango\"]\n",
    "thislist[1:3] = [\"blackcurrant\", \"watermelon\"]\n",
    "print(thislist)"
   ],
   "metadata": {
    "collapsed": false,
    "pycharm": {
     "name": "#%%\n"
    }
   }
  },
  {
   "cell_type": "markdown",
   "source": [
    "Değiştirdiğinizden daha fazla öğe eklerseniz, yeni öğeler belirttiğiniz yere eklenir ve kalan öğeler buna göre hareket eder:"
   ],
   "metadata": {
    "collapsed": false,
    "pycharm": {
     "name": "#%% md\n"
    }
   }
  },
  {
   "cell_type": "code",
   "execution_count": 15,
   "outputs": [
    {
     "name": "stdout",
     "output_type": "stream",
     "text": [
      "['apple', 'blackcurrant', 'watermelon', 'cherry']\n"
     ]
    }
   ],
   "source": [
    "thislist = [\"apple\", \"banana\", \"cherry\"]\n",
    "thislist[1:2] = [\"blackcurrant\", \"watermelon\"]\n",
    "print(thislist)"
   ],
   "metadata": {
    "collapsed": false,
    "pycharm": {
     "name": "#%%\n"
    }
   }
  },
  {
   "cell_type": "markdown",
   "source": [
    "**Not:** Girilen öğe sayısı değiştirilen öğe sayısıyla eşleşmediğinde listenin uzunluğu değişecektir.\n",
    "\n",
    "Değiştirdiğinizden daha az öğe eklerseniz, yeni öğeler belirttiğiniz yere eklenir ve kalan öğeler buna göre hareket eder:"
   ],
   "metadata": {
    "collapsed": false,
    "pycharm": {
     "name": "#%% md\n"
    }
   }
  },
  {
   "cell_type": "code",
   "execution_count": 16,
   "outputs": [
    {
     "name": "stdout",
     "output_type": "stream",
     "text": [
      "['apple', 'watermelon']\n"
     ]
    }
   ],
   "source": [
    "thislist = [\"apple\", \"banana\", \"cherry\"]\n",
    "thislist[1:3] = [\"watermelon\"]\n",
    "print(thislist)"
   ],
   "metadata": {
    "collapsed": false,
    "pycharm": {
     "name": "#%%\n"
    }
   }
  },
  {
   "cell_type": "code",
   "execution_count": null,
   "outputs": [],
   "source": [],
   "metadata": {
    "collapsed": false,
    "pycharm": {
     "name": "#%%\n"
    }
   }
  }
 ],
 "metadata": {
  "kernelspec": {
   "display_name": "Python 3",
   "language": "python",
   "name": "python3"
  },
  "language_info": {
   "codemirror_mode": {
    "name": "ipython",
    "version": 2
   },
   "file_extension": ".py",
   "mimetype": "text/x-python",
   "name": "python",
   "nbconvert_exporter": "python",
   "pygments_lexer": "ipython2",
   "version": "2.7.6"
  }
 },
 "nbformat": 4,
 "nbformat_minor": 0
}